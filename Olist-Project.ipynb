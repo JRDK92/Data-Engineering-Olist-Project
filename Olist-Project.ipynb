{
 "cells": [
  {
   "cell_type": "markdown",
   "metadata": {},
   "source": [
    "##### Step 1: Import the resources needed\n"
   ]
  },
  {
   "cell_type": "code",
   "execution_count": 1,
   "metadata": {},
   "outputs": [],
   "source": [
    "import kaggle\n",
    "import pandas as pd\n",
    "import pandas_gbq\n",
    "import os\n",
    "from google.cloud import bigquery\n",
    "\n",
    "kaggle_api = kaggle.api\n",
    "os.environ['GOOGLE_APPLICATION_CREDENTIALS'] = 'C:/Users/josep/Documents/BQ_KEY.json' # this is your account details JSON file\n",
    "client = bigquery.Client()"
   ]
  },
  {
   "cell_type": "markdown",
   "metadata": {},
   "source": [
    "##### Step 2: Retrieve the data from Kaggle using an API\n"
   ]
  },
  {
   "cell_type": "code",
   "execution_count": 3,
   "metadata": {},
   "outputs": [
    {
     "name": "stdout",
     "output_type": "stream",
     "text": [
      "                        customer_id                customer_unique_id  \\\n",
      "0  06b8999e2fba1a1fbc88172c00ba8bc7  861eff4711a542e4b93843c6dd7febb0   \n",
      "1  18955e83d337fd6b2def6b18a428ac77  290c77bc529b7ac935b93aa66c333dc3   \n",
      "2  4e7b3e00288586ebd08712fdd0374a03  060e732b5b29e8181a18229c7b0b2b5e   \n",
      "3  b2b6027bc5c5109e529d4dc6358b12c3  259dac757896d24d7702b9acbbff3f3c   \n",
      "4  4f2d8ab171c80ec8364f7c12e35b23ad  345ecd01c38d18a9036ed96c73b8d066   \n",
      "5  879864dab9bc3047522c92c82e1212b8  4c93744516667ad3b8f1fb645a3116a4   \n",
      "6  fd826e7cf63160e536e0908c76c3f441  addec96d2e059c80c30fe6871d30d177   \n",
      "7  5e274e7a0c3809e14aba7ad5aae0d407  57b2a98a409812fe9618067b6b8ebe4f   \n",
      "8  5adf08e34b2e993982a47070956c5c65  1175e95fb47ddff9de6b2b06188f7e0d   \n",
      "9  4b7139f34592b3a31687243a302fa75b  9afe194fb833f79e300e37e580171f22   \n",
      "\n",
      "   customer_zip_code_prefix          customer_city customer_state  \n",
      "0                     14409                 franca             SP  \n",
      "1                      9790  sao bernardo do campo             SP  \n",
      "2                      1151              sao paulo             SP  \n",
      "3                      8775        mogi das cruzes             SP  \n",
      "4                     13056               campinas             SP  \n",
      "5                     89254         jaragua do sul             SC  \n",
      "6                      4534              sao paulo             SP  \n",
      "7                     35182                timoteo             MG  \n",
      "8                     81560               curitiba             PR  \n",
      "9                     30575         belo horizonte             MG  \n"
     ]
    }
   ],
   "source": [
    "# kaggle_api.dataset_download_files('olistbr/brazilian-ecommerce',  unzip=True) # This is commented out after it is run because re-running it will re-pull the data from Kaggle using bandwith and CPU resources unnecessarily\n",
    "\n",
    "df_olist_customers = pd.read_csv('olist_customers_dataset.csv') \n",
    "df_olist_geolocation = pd.read_csv('olist_geolocation_dataset.csv') \n",
    "df_olist_order_items = pd.read_csv('olist_order_items_dataset.csv') \n",
    "df_olist_order_payments = pd.read_csv('olist_order_payments_dataset.csv') \n",
    "df_olist_order_reviews = pd.read_csv('olist_order_reviews_dataset.csv') \n",
    "df_olist_orders = pd.read_csv('olist_orders_dataset.csv') \n",
    "df_olist_sellers = pd.read_csv('olist_sellers_dataset.csv') \n",
    "df_olist_translation = pd.read_csv('product_category_name_translation.csv') \n",
    "\n",
    "print(df_olist_customers.head(10))"
   ]
  }
 ],
 "metadata": {
  "kernelspec": {
   "display_name": "Python 3",
   "language": "python",
   "name": "python3"
  },
  "language_info": {
   "codemirror_mode": {
    "name": "ipython",
    "version": 3
   },
   "file_extension": ".py",
   "mimetype": "text/x-python",
   "name": "python",
   "nbconvert_exporter": "python",
   "pygments_lexer": "ipython3",
   "version": "3.9.2"
  },
  "orig_nbformat": 4
 },
 "nbformat": 4,
 "nbformat_minor": 2
}
